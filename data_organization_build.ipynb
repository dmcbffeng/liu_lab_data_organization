{
 "cells": [
  {
   "cell_type": "code",
   "execution_count": 1,
   "metadata": {},
   "outputs": [],
   "source": [
    "import sqlite3"
   ]
  },
  {
   "cell_type": "code",
   "execution_count": 2,
   "metadata": {},
   "outputs": [],
   "source": [
    "def create_empty_database(db_file):\n",
    "    \"\"\" create a database connection to a SQLite database \"\"\"\n",
    "    conn = None\n",
    "    try:\n",
    "        conn = sqlite3.connect(db_file)\n",
    "        print(sqlite3.version)\n",
    "    except sqlite3.Error as e:\n",
    "        print(e)\n",
    "    finally:\n",
    "        if conn:\n",
    "            conn.close()\n",
    "\n",
    "def create_connection(db_file):\n",
    "    \"\"\" create a database connection to the SQLite database\n",
    "        specified by db_file\n",
    "    :param db_file: database file\n",
    "    :return: Connection object or None\n",
    "    \"\"\"\n",
    "    conn = None\n",
    "    try:\n",
    "        conn = sqlite3.connect(db_file)\n",
    "        return conn\n",
    "    except sqlite3.Error as e:\n",
    "        print(e)\n",
    "\n",
    "    return conn\n",
    "\n",
    "def create_table(conn, create_table_sql):\n",
    "    \"\"\" create a table from the create_table_sql statement\n",
    "    :param conn: Connection object\n",
    "    :param create_table_sql: a CREATE TABLE statement\n",
    "    :return:\n",
    "    \"\"\"\n",
    "    try:\n",
    "        c = conn.cursor()\n",
    "        c.execute(create_table_sql)\n",
    "    except sqlite3.Error as e:\n",
    "        print(e)\n",
    "\n",
    "\n",
    "def add_data_entry(conn, cols, entry):\n",
    "    \"\"\"\n",
    "    Create a new project into the projects table\n",
    "    :param conn:\n",
    "    :param cols:\n",
    "    :param entry:\n",
    "    :return: project id\n",
    "    \"\"\"\n",
    "    cur = conn.cursor()\n",
    "    cur.execute(cols, entry)\n",
    "    return cur.lastrowid"
   ]
  },
  {
   "cell_type": "code",
   "execution_count": 3,
   "metadata": {},
   "outputs": [],
   "source": [
    "def create_primary_table(conn):\n",
    "    \"\"\" create a table from the create_table_sql statement\n",
    "    :param conn: Connection object\n",
    "    :param create_table_sql: a CREATE TABLE statement\n",
    "    :return:\n",
    "    \"\"\"\n",
    "    create_table_sql = \"\"\"\n",
    "    CREATE TABLE IF NOT EXISTS datasets (\n",
    "    id integer PRIMARY KEY,\n",
    "    species text NOT NULL,\n",
    "    organ_or_cell_line text NOT NULL,\n",
    "    reference_genome test NOT NULL,\n",
    "    assay text NOT NULL,\n",
    "    whether_processed bit,\n",
    "    format text,\n",
    "    linked_table text,\n",
    "    path text,\n",
    "    ref text,\n",
    "    additional_information text\n",
    "    );\n",
    "    \"\"\"\n",
    "    try:\n",
    "        c = conn.cursor()\n",
    "        c.execute(create_table_sql)\n",
    "    except sqlite3.Error as e:\n",
    "        print(e)\n",
    "\n",
    "\n",
    "def add_primary_data_entry(conn, entry):\n",
    "    \"\"\"\n",
    "    Create a new project into the projects table\n",
    "    :param conn:\n",
    "    :param project:\n",
    "    :return: project id\n",
    "    \"\"\"\n",
    "    sql = '''\n",
    "    INSERT INTO datasets(species, organ_or_cell_line, reference_genome, assay, whether_processed, format,\n",
    "    linked_table, path, ref, additional_information)\n",
    "    VALUES(?,?,?,?,?,?,?,?,?,?)\n",
    "    '''\n",
    "    cur = conn.cursor()\n",
    "    cur.execute(sql, entry)\n",
    "    return cur.lastrowid"
   ]
  },
  {
   "cell_type": "markdown",
   "metadata": {},
   "source": [
    "Create an empty database.\n",
    "\n",
    "Build a primary table for storing all datasets we have."
   ]
  },
  {
   "cell_type": "code",
   "execution_count": 4,
   "metadata": {},
   "outputs": [
    {
     "name": "stdout",
     "output_type": "stream",
     "text": [
      "2.6.0\n"
     ]
    }
   ],
   "source": [
    "create_empty_database('Liu_lab_datasets.db')\n",
    "conn = create_connection('Liu_lab_datasets.db')\n",
    "\n",
    "create_primary_table(conn)"
   ]
  },
  {
   "cell_type": "code",
   "execution_count": 5,
   "metadata": {},
   "outputs": [],
   "source": [
    "d1 = ('mouse', 'embryonic stem cell', 'mm10', 0, 'scHiC', 'text', 'scHiC',\n",
    "      '/nfs/turbo/umms-drjieliu/proj/4dn/data/scHiC/Nagano/raw',\n",
    "      'https://www.ncbi.nlm.nih.gov/geo/query/acc.cgi?acc=GSE94489', 'NULL')\n",
    "d2 = ('mouse', 'embryonic stem cell', 'mm9', 'scHiC', 1, 'text', 'scHiC',\n",
    "      '/nfs/turbo/umms-drjieliu/proj/4dn/data/scHiC/Nagano/processed',\n",
    "      'https://www.ncbi.nlm.nih.gov/geo/query/acc.cgi?acc=GSE94489', 'NULL')\n",
    "\n",
    "id1 = add_primary_data_entry(conn, d1)\n",
    "id2 = add_primary_data_entry(conn, d2)"
   ]
  },
  {
   "cell_type": "markdown",
   "metadata": {},
   "source": [
    "Build a secondary table for single-cell Hi-C"
   ]
  },
  {
   "cell_type": "code",
   "execution_count": 6,
   "metadata": {},
   "outputs": [],
   "source": [
    "create_table_sql = \"\"\"\n",
    "    CREATE TABLE IF NOT EXISTS scHiC (\n",
    "    id integer PRIMARY KEY,\n",
    "    species text NOT NULL,\n",
    "    organ_or_cell_line text NOT NULL,\n",
    "    reference_genome test NOT NULL,\n",
    "    cell_id test NOT NULL,\n",
    "    whether_processed text,\n",
    "    format text,\n",
    "    dataset_id integer,\n",
    "    path text,\n",
    "    ref text,\n",
    "    additional_information text\n",
    "    );\n",
    "    \"\"\"\n",
    "\n",
    "create_table(conn, create_table_sql)\n",
    "\n",
    "cols = '''\n",
    "    INSERT INTO scHiC(species, organ_or_cell_line, reference_genome, cell_id, whether_processed, format,\n",
    "    dataset_id, path, ref, additional_information)\n",
    "    VALUES(?,?,?,?,?,?,?,?,?,?)\n",
    "    '''\n",
    "p1 = ('mouse', 'embryonic stem cell', 'mm9', '1CDX.1', 1, 'text', id2,\n",
    "      '/nfs/turbo/umms-drjieliu/proj/4dn/data/scHiC/Nagano/processed/500kb/schic_hyb_1CDX1_adj_files/1CDX1.1/new_adj',\n",
    "      'https://www.ncbi.nlm.nih.gov/geo/query/acc.cgi?acc=GSE94489', 'resolution:500kb')\n",
    "p2 = ('mouse', 'embryonic stem cell', 'mm9', '1CDX.3', 1, 'text', id2,\n",
    "      '/nfs/turbo/umms-drjieliu/proj/4dn/data/scHiC/Nagano/processed/500kb/schic_hyb_1CDX1_adj_files/1CDX1.3/new_adj',\n",
    "      'https://www.ncbi.nlm.nih.gov/geo/query/acc.cgi?acc=GSE94489', 'resolution:500kb')\n",
    "\n",
    "a = add_data_entry(conn, cols, p1)\n",
    "b = add_data_entry(conn, cols, p2)"
   ]
  },
  {
   "cell_type": "code",
   "execution_count": 7,
   "metadata": {},
   "outputs": [],
   "source": [
    "conn.commit()"
   ]
  }
 ],
 "metadata": {
  "kernelspec": {
   "display_name": "Python 3",
   "language": "python",
   "name": "python3"
  },
  "language_info": {
   "codemirror_mode": {
    "name": "ipython",
    "version": 3
   },
   "file_extension": ".py",
   "mimetype": "text/x-python",
   "name": "python",
   "nbconvert_exporter": "python",
   "pygments_lexer": "ipython3",
   "version": "3.7.1"
  }
 },
 "nbformat": 4,
 "nbformat_minor": 2
}
