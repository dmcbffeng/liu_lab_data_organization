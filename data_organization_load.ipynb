{
 "cells": [
  {
   "cell_type": "code",
   "execution_count": 1,
   "metadata": {},
   "outputs": [],
   "source": [
    "import sqlite3"
   ]
  },
  {
   "cell_type": "code",
   "execution_count": 2,
   "metadata": {},
   "outputs": [],
   "source": [
    "def create_connection(db_file):\n",
    "    \"\"\" create a database connection to the SQLite database\n",
    "        specified by db_file\n",
    "    :param db_file: database file\n",
    "    :return: Connection object or None\n",
    "    \"\"\"\n",
    "    conn = None\n",
    "    try:\n",
    "        conn = sqlite3.connect(db_file)\n",
    "        return conn\n",
    "    except sqlite3.Error as e:\n",
    "        print(e)\n",
    "\n",
    "    return conn\n",
    "\n",
    "\n",
    "def select_all_rows(conn, table):\n",
    "    \"\"\"\n",
    "    Query all rows in the table\n",
    "    :param conn: the Connection object\n",
    "    :return:\n",
    "    \"\"\"\n",
    "    cur = conn.cursor()\n",
    "    cur.execute(\"SELECT * FROM {}\".format(table))\n",
    "    \n",
    "    rows = cur.fetchall()\n",
    "    print(list(map(lambda x: x[0], cur.description)))\n",
    "    for row in rows:\n",
    "        print(row)"
   ]
  },
  {
   "cell_type": "markdown",
   "metadata": {},
   "source": [
    "Connect to the dataset and print the primary table"
   ]
  },
  {
   "cell_type": "code",
   "execution_count": 3,
   "metadata": {},
   "outputs": [],
   "source": [
    "conn = create_connection('Liu_lab_datasets.db')"
   ]
  },
  {
   "cell_type": "code",
   "execution_count": 4,
   "metadata": {},
   "outputs": [
    {
     "name": "stdout",
     "output_type": "stream",
     "text": [
      "['id', 'species', 'organ_or_cell_line', 'reference_genome', 'assay', 'whether_processed', 'format', 'linked_table', 'path', 'ref', 'additional_information']\n",
      "(1, 'mouse', 'embryonic stem cell', 'mm10', '0', 'scHiC', 'text', 'scHiC', '/nfs/turbo/umms-drjieliu/proj/4dn/data/scHiC/Nagano/raw', 'https://www.ncbi.nlm.nih.gov/geo/query/acc.cgi?acc=GSE94489', 'NULL')\n",
      "(2, 'mouse', 'embryonic stem cell', 'mm9', 'scHiC', 1, 'text', 'scHiC', '/nfs/turbo/umms-drjieliu/proj/4dn/data/scHiC/Nagano/processed', 'https://www.ncbi.nlm.nih.gov/geo/query/acc.cgi?acc=GSE94489', 'NULL')\n"
     ]
    }
   ],
   "source": [
    "select_all_rows(conn, 'datasets')"
   ]
  },
  {
   "cell_type": "markdown",
   "metadata": {},
   "source": [
    "Select the species, reference genome, assay type and path for all processed datasets"
   ]
  },
  {
   "cell_type": "code",
   "execution_count": 5,
   "metadata": {},
   "outputs": [
    {
     "name": "stdout",
     "output_type": "stream",
     "text": [
      "('mouse', 'mm9', 'scHiC', '/nfs/turbo/umms-drjieliu/proj/4dn/data/scHiC/Nagano/processed')\n"
     ]
    }
   ],
   "source": [
    "sql = \"SELECT species, reference_genome, assay, path FROM datasets WHERE whether_processed=1\"\n",
    "cur = conn.cursor()\n",
    "cur.execute(sql)\n",
    "rows = cur.fetchall()\n",
    "for row in rows:\n",
    "        print(row)"
   ]
  },
  {
   "cell_type": "code",
   "execution_count": 6,
   "metadata": {},
   "outputs": [
    {
     "name": "stdout",
     "output_type": "stream",
     "text": [
      "('mouse', 'mm9', '/nfs/turbo/umms-drjieliu/proj/4dn/data/scHiC/Nagano/processed/500kb/schic_hyb_1CDX1_adj_files/1CDX1.1/new_adj', 'text')\n",
      "('mouse', 'mm9', '/nfs/turbo/umms-drjieliu/proj/4dn/data/scHiC/Nagano/processed/500kb/schic_hyb_1CDX1_adj_files/1CDX1.3/new_adj', 'text')\n"
     ]
    }
   ],
   "source": [
    "sql = \"SELECT species, reference_genome, path, format FROM scHiC WHERE whether_processed=1\"\n",
    "cur = conn.cursor()\n",
    "cur.execute(sql)\n",
    "rows = cur.fetchall()\n",
    "for row in rows:\n",
    "        print(row)"
   ]
  }
 ],
 "metadata": {
  "kernelspec": {
   "display_name": "Python 3",
   "language": "python",
   "name": "python3"
  },
  "language_info": {
   "codemirror_mode": {
    "name": "ipython",
    "version": 3
   },
   "file_extension": ".py",
   "mimetype": "text/x-python",
   "name": "python",
   "nbconvert_exporter": "python",
   "pygments_lexer": "ipython3",
   "version": "3.7.1"
  }
 },
 "nbformat": 4,
 "nbformat_minor": 2
}
